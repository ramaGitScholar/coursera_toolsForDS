{
 "cells": [
  {
   "cell_type": "markdown",
   "id": "88f45349-f01f-4882-a3f6-58a628eaabf1",
   "metadata": {},
   "source": [
    "# Data Science Tools and Ecosystem"
   ]
  },
  {
   "cell_type": "markdown",
   "id": "8820f624-8403-4cd6-a0b9-f938ead2c1e0",
   "metadata": {},
   "source": [
    "In this notebook, Data Science Tools and Ecosystem are summarized"
   ]
  },
  {
   "cell_type": "markdown",
   "id": "443408ac-c39d-4e65-a97b-51ad14ca622b",
   "metadata": {},
   "source": [
    "## Author\n",
    "Mr. Rama"
   ]
  },
  {
   "cell_type": "markdown",
   "id": "d0b34a64-a8b8-46a9-9c82-eddf33add457",
   "metadata": {},
   "source": [
    "__Objectives__\n",
    "- Listing Popular Languages in Data Sciences\n",
    "- Getting to know the environment to perform data analysis\n",
    "- Get a hands on experience in the IDE\n",
    "- Take on quizzes\n",
    "- Submit your final assignment to evaluate your understanding"
   ]
  },
  {
   "cell_type": "markdown",
   "id": "bf6615ed-5c84-4fcb-b327-e37f01f94956",
   "metadata": {},
   "source": [
    "Some of the popular languages that Data Scientists use are:\n",
    "1. Julia\n",
    "2. Python\n",
    "3. R\n",
    "4. Java\n",
    "5. SQL"
   ]
  },
  {
   "cell_type": "markdown",
   "id": "3d45d81b-1adb-40d4-be67-8e6ea8689f41",
   "metadata": {},
   "source": [
    "Some of the commonly used libraries used by Data Scientists include:\n",
    "1. numpy (python numerical computation)\n",
    "2. pandas (python data manipulation)\n",
    "3. matplotlib (python visualization)\n",
    "4. ggplot (R visualization)"
   ]
  },
  {
   "attachments": {},
   "cell_type": "markdown",
   "id": "67de9890-f890-49d4-a06f-9338f7d46b9e",
   "metadata": {},
   "source": [
    "|Data Scientists Tools|\n",
    "|---|\n",
    "|anaconda navigator|\n",
    "|visual studio code|\n",
    "|r studio|"
   ]
  },
  {
   "cell_type": "markdown",
   "id": "e51583de-4f5f-4bbd-a8e4-023245ebb51d",
   "metadata": {},
   "source": [
    "### Below are a few examples of evaluating arithmetic expression in python"
   ]
  },
  {
   "cell_type": "code",
   "execution_count": 11,
   "id": "68ebfb35-d2a5-4ba8-a712-c1da70fd4088",
   "metadata": {},
   "outputs": [
    {
     "data": {
      "text/plain": [
       "17"
      ]
     },
     "execution_count": 11,
     "metadata": {},
     "output_type": "execute_result"
    }
   ],
   "source": [
    "# This is a simple arithmetic to multiply then add integers\n",
    "(3*4)+5"
   ]
  },
  {
   "cell_type": "code",
   "execution_count": 29,
   "id": "f53675da-f4c9-4878-9a96-9475c00fb8c1",
   "metadata": {},
   "outputs": [
    {
     "name": "stdout",
     "output_type": "stream",
     "text": [
      "200 minutes equals to 3.3333333333333335 hours\n"
     ]
    }
   ],
   "source": [
    "# This will convert 200 minutes to hours by dividing by 60\n",
    "minutes = 200\n",
    "def minuteToHours(minutes):\n",
    "    result = minutes/60\n",
    "    print(minutes, \"minutes equals to\", result, \"hours\")\n",
    "\n",
    "minuteToHours(minutes)"
   ]
  },
  {
   "cell_type": "code",
   "execution_count": null,
   "id": "bb718a11-f649-4f1d-a095-102bea57a62e",
   "metadata": {},
   "outputs": [],
   "source": []
  }
 ],
 "metadata": {
  "kernelspec": {
   "display_name": "Python [conda env:base] *",
   "language": "python",
   "name": "conda-base-py"
  },
  "language_info": {
   "codemirror_mode": {
    "name": "ipython",
    "version": 3
   },
   "file_extension": ".py",
   "mimetype": "text/x-python",
   "name": "python",
   "nbconvert_exporter": "python",
   "pygments_lexer": "ipython3",
   "version": "3.12.7"
  }
 },
 "nbformat": 4,
 "nbformat_minor": 5
}
